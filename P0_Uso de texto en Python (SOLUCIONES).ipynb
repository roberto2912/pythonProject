{
 "cells": [
  {
   "cell_type": "markdown",
   "id": "right-effectiveness",
   "metadata": {},
   "source": [
    "# Práctica 0\n",
    "## Uso de texto en Python"
   ]
  },
  {
   "cell_type": "code",
   "execution_count": 1,
   "id": "outstanding-tournament",
   "metadata": {},
   "outputs": [],
   "source": [
    "texto = \"Este es un texto 'normal' en Python, cambiado\""
   ]
  },
  {
   "cell_type": "markdown",
   "id": "initial-transfer",
   "metadata": {},
   "source": [
    "### Ejercicio 1\n",
    "Crea una lista con el nombre `lista` que contenga las palabras de la cadena `texto` y cuénta el nº de palabras que tiene la lista.  \n",
    "*Nota: considera que las palabras están separadas por el caracter espacio `' '`*"
   ]
  },
  {
   "cell_type": "code",
   "execution_count": 17,
   "id": "major-fossil",
   "metadata": {},
   "outputs": [
    {
     "data": {
      "text/plain": [
       "7"
      ]
     },
     "execution_count": 17,
     "metadata": {},
     "output_type": "execute_result"
    }
   ],
   "source": [
    "lista = texto.split(' ')\n",
    "len(lista)"
   ]
  },
  {
   "cell_type": "markdown",
   "id": "placed-canada",
   "metadata": {},
   "source": [
    "### Ejercicio 2\n",
    "¿Qué palabras de `texto` empiezan en mayúscula?"
   ]
  },
  {
   "cell_type": "code",
   "execution_count": 12,
   "id": "technical-quest",
   "metadata": {},
   "outputs": [
    {
     "data": {
      "text/plain": [
       "['Este', 'Python']"
      ]
     },
     "execution_count": 12,
     "metadata": {},
     "output_type": "execute_result"
    }
   ],
   "source": [
    "[c for c in lista if c.istitle()]"
   ]
  },
  {
   "cell_type": "markdown",
   "id": "advance-conversion",
   "metadata": {},
   "source": [
    "### Ejercicio 3\n",
    "Convierte en mayúsculas las palabras de `texto` que tienen una longitud mayor que tres.  "
   ]
  },
  {
   "cell_type": "code",
   "execution_count": 11,
   "id": "legendary-school",
   "metadata": {},
   "outputs": [
    {
     "data": {
      "text/plain": [
       "\"ESTE es un TEXTO 'NORMAL' en PYTHON\""
      ]
     },
     "execution_count": 11,
     "metadata": {},
     "output_type": "execute_result"
    }
   ],
   "source": [
    "' '.join([c.upper() if len(c)>3 else c for c in lista])"
   ]
  },
  {
   "cell_type": "markdown",
   "id": "changing-print",
   "metadata": {},
   "source": [
    "### Ejercicio 4\n",
    "Crea una cadena que contenga *sólo* con las palabras de `texto` terminadas en `n`, separadas por **coma**, y convertidas en mayúsculas *sólo* si tienen una longitud mayor que tres"
   ]
  },
  {
   "cell_type": "code",
   "execution_count": 20,
   "id": "976ed360",
   "metadata": {},
   "outputs": [
    {
     "data": {
      "text/plain": [
       "'ESTE'"
      ]
     },
     "execution_count": 20,
     "metadata": {},
     "output_type": "execute_result"
    }
   ],
   "source": [
    "lista[0].upper()"
   ]
  },
  {
   "cell_type": "code",
   "execution_count": 22,
   "id": "3097f787",
   "metadata": {},
   "outputs": [
    {
     "data": {
      "text/plain": [
       "['un', 'en', 'Python']"
      ]
     },
     "execution_count": 22,
     "metadata": {},
     "output_type": "execute_result"
    }
   ],
   "source": [
    "[c for c in lista if c.endswith('n')]"
   ]
  },
  {
   "cell_type": "code",
   "execution_count": 21,
   "id": "recorded-mount",
   "metadata": {},
   "outputs": [
    {
     "data": {
      "text/plain": [
       "'un,en,PYTHON'"
      ]
     },
     "execution_count": 21,
     "metadata": {},
     "output_type": "execute_result"
    }
   ],
   "source": [
    "#podemos combinar con funciones sobre str\n",
    "','.join([c.upper() if len(c)>3 else c for c in lista if c.endswith('n')])"
   ]
  },
  {
   "cell_type": "markdown",
   "id": "reverse-plaintiff",
   "metadata": {},
   "source": [
    "### Ejercicio 5\n",
    "Enumera las palabras de la cadena `texto` e indica para cada una su longitud"
   ]
  },
  {
   "cell_type": "code",
   "execution_count": 28,
   "id": "9f349e0f",
   "metadata": {},
   "outputs": [
    {
     "name": "stdout",
     "output_type": "stream",
     "text": [
      "[(0, 'Este'), (1, 'es'), (2, 'un'), (3, 'texto'), (4, \"'normal'\"), (5, 'en'), (6, 'Python')]\n"
     ]
    }
   ],
   "source": [
    "enum = enumerate(lista)\n",
    "print(list(enum))"
   ]
  },
  {
   "cell_type": "code",
   "execution_count": 14,
   "id": "psychological-accountability",
   "metadata": {},
   "outputs": [
    {
     "name": "stdout",
     "output_type": "stream",
     "text": [
      "Palabra 0: 4 caracteres\n",
      "Palabra 1: 2 caracteres\n",
      "Palabra 2: 2 caracteres\n",
      "Palabra 3: 5 caracteres\n",
      "Palabra 4: 8 caracteres\n",
      "Palabra 5: 2 caracteres\n",
      "Palabra 6: 6 caracteres\n"
     ]
    }
   ],
   "source": [
    "#el texto es un elemento iterable\n",
    "for (i,t) in enumerate(lista):\n",
    "    print(f'Palabra {i}: {len(t)} caracteres')"
   ]
  },
  {
   "cell_type": "markdown",
   "id": "specified-roots",
   "metadata": {},
   "source": [
    "## Uso de texto en Pandas"
   ]
  },
  {
   "cell_type": "code",
   "execution_count": 30,
   "id": "genetic-conflict",
   "metadata": {},
   "outputs": [
    {
     "data": {
      "text/plain": [
       "'1.5.3'"
      ]
     },
     "execution_count": 30,
     "metadata": {},
     "output_type": "execute_result"
    }
   ],
   "source": [
    "import pandas as pd\n",
    "import numpy as np\n",
    "pd.__version__"
   ]
  },
  {
   "cell_type": "markdown",
   "id": "irish-wallace",
   "metadata": {},
   "source": [
    "### Ejercicio 6\n",
    "Convierte la lista de *strings* anterior a un objeto `Series` de Pandas de tipo `dtype=string` con el nombre `serie`."
   ]
  },
  {
   "cell_type": "code",
   "execution_count": 32,
   "id": "similar-quebec",
   "metadata": {},
   "outputs": [
    {
     "data": {
      "text/plain": [
       "0        Este\n",
       "1          es\n",
       "2          un\n",
       "3       texto\n",
       "4    'normal'\n",
       "5          en\n",
       "6      Python\n",
       "dtype: string"
      ]
     },
     "execution_count": 32,
     "metadata": {},
     "output_type": "execute_result"
    }
   ],
   "source": [
    "serie = pd.Series(lista, dtype=\"string\")\n",
    "serie"
   ]
  },
  {
   "cell_type": "markdown",
   "id": "sharing-diagram",
   "metadata": {},
   "source": [
    "### Ejercicio 7\n",
    "Convierte los elementos de `serie` a mayúsculas."
   ]
  },
  {
   "cell_type": "code",
   "execution_count": 33,
   "id": "measured-invasion",
   "metadata": {},
   "outputs": [
    {
     "data": {
      "text/plain": [
       "0        ESTE\n",
       "1          ES\n",
       "2          UN\n",
       "3       TEXTO\n",
       "4    'NORMAL'\n",
       "5          EN\n",
       "6      PYTHON\n",
       "dtype: string"
      ]
     },
     "execution_count": 33,
     "metadata": {},
     "output_type": "execute_result"
    }
   ],
   "source": [
    "serie.str.upper()"
   ]
  },
  {
   "cell_type": "markdown",
   "id": "informal-shooting",
   "metadata": {},
   "source": [
    "### Ejercicio 8\n",
    "Cuenta el número de apariciones del carácter 'e' (o 'E') en cada elemento.  \n",
    "*Nota*: Convierte todo el texto a mayúscula y utiliza el  método `count()` sobre el atributo `str` del objeto Series"
   ]
  },
  {
   "cell_type": "code",
   "execution_count": 34,
   "id": "annoying-supervisor",
   "metadata": {},
   "outputs": [
    {
     "data": {
      "text/plain": [
       "0    2\n",
       "1    1\n",
       "2    0\n",
       "3    1\n",
       "4    0\n",
       "5    1\n",
       "6    0\n",
       "dtype: Int64"
      ]
     },
     "execution_count": 34,
     "metadata": {},
     "output_type": "execute_result"
    }
   ],
   "source": [
    "serie.str.upper().str.count(\"E\")"
   ]
  },
  {
   "cell_type": "markdown",
   "id": "affecting-christianity",
   "metadata": {},
   "source": [
    "### Ejercicio 9\n",
    "Crea un `DataFrame` de Pandas con los elementos originales de tu serie y dos columnas con:  \n",
    "- Elementos que contienen la letra 'e' (case insensitive)\n",
    "- Elementos que comienzan por la letra 'E' (sólo mayúsculas)"
   ]
  },
  {
   "cell_type": "code",
   "execution_count": 47,
   "id": "outside-barrel",
   "metadata": {},
   "outputs": [
    {
     "data": {
      "text/html": [
       "<div>\n",
       "<style scoped>\n",
       "    .dataframe tbody tr th:only-of-type {\n",
       "        vertical-align: middle;\n",
       "    }\n",
       "\n",
       "    .dataframe tbody tr th {\n",
       "        vertical-align: top;\n",
       "    }\n",
       "\n",
       "    .dataframe thead th {\n",
       "        text-align: right;\n",
       "    }\n",
       "</style>\n",
       "<table border=\"1\" class=\"dataframe\">\n",
       "  <thead>\n",
       "    <tr style=\"text-align: right;\">\n",
       "      <th></th>\n",
       "      <th>0</th>\n",
       "      <th>1</th>\n",
       "      <th>2</th>\n",
       "    </tr>\n",
       "  </thead>\n",
       "  <tbody>\n",
       "    <tr>\n",
       "      <th>0</th>\n",
       "      <td>Ess</td>\n",
       "      <td>True</td>\n",
       "      <td>True</td>\n",
       "    </tr>\n",
       "    <tr>\n",
       "      <th>1</th>\n",
       "      <td>es</td>\n",
       "      <td>True</td>\n",
       "      <td>False</td>\n",
       "    </tr>\n",
       "    <tr>\n",
       "      <th>2</th>\n",
       "      <td>un</td>\n",
       "      <td>False</td>\n",
       "      <td>False</td>\n",
       "    </tr>\n",
       "    <tr>\n",
       "      <th>3</th>\n",
       "      <td>texto</td>\n",
       "      <td>True</td>\n",
       "      <td>False</td>\n",
       "    </tr>\n",
       "    <tr>\n",
       "      <th>4</th>\n",
       "      <td>'normal'</td>\n",
       "      <td>False</td>\n",
       "      <td>False</td>\n",
       "    </tr>\n",
       "    <tr>\n",
       "      <th>5</th>\n",
       "      <td>en</td>\n",
       "      <td>True</td>\n",
       "      <td>False</td>\n",
       "    </tr>\n",
       "    <tr>\n",
       "      <th>6</th>\n",
       "      <td>Python</td>\n",
       "      <td>False</td>\n",
       "      <td>False</td>\n",
       "    </tr>\n",
       "  </tbody>\n",
       "</table>\n",
       "</div>"
      ],
      "text/plain": [
       "          0      1      2\n",
       "0       Ess   True   True\n",
       "1        es   True  False\n",
       "2        un  False  False\n",
       "3     texto   True  False\n",
       "4  'normal'  False  False\n",
       "5        en   True  False\n",
       "6    Python  False  False"
      ]
     },
     "execution_count": 47,
     "metadata": {},
     "output_type": "execute_result"
    }
   ],
   "source": [
    "pd.concat([serie, serie.str.contains(\"e\", case=False), serie.str.match(\"E\")], axis=1)"
   ]
  },
  {
   "cell_type": "markdown",
   "id": "electronic-zealand",
   "metadata": {},
   "source": [
    "### Ejercicio 10\n",
    "¿cuántos elementos contienen al menos un carácter 'n'?  \n",
    "*Nota*: recuerda que las Series de tipo booleano se pueden sumar con `sum()`"
   ]
  },
  {
   "cell_type": "code",
   "execution_count": 49,
   "id": "9dce891e",
   "metadata": {},
   "outputs": [
    {
     "data": {
      "text/plain": [
       "0    False\n",
       "1    False\n",
       "2     True\n",
       "3    False\n",
       "4     True\n",
       "5     True\n",
       "6     True\n",
       "dtype: boolean"
      ]
     },
     "execution_count": 49,
     "metadata": {},
     "output_type": "execute_result"
    }
   ],
   "source": [
    "serie.str.contains(\"n\")"
   ]
  },
  {
   "cell_type": "code",
   "execution_count": 48,
   "id": "sensitive-fifteen",
   "metadata": {},
   "outputs": [
    {
     "data": {
      "text/plain": [
       "4"
      ]
     },
     "execution_count": 48,
     "metadata": {},
     "output_type": "execute_result"
    }
   ],
   "source": [
    "serie.str.contains(\"n\").sum()"
   ]
  },
  {
   "cell_type": "markdown",
   "id": "ethical-consciousness",
   "metadata": {},
   "source": [
    "## Generator comprenhension y List comprenhension\n",
    "### Ejercicio 11\n",
    "Crea un generador llamado `gen` que recorra la lista de texto anterior y devuelva cada vez una tupla con la siguiente palabra y su longitud."
   ]
  },
  {
   "cell_type": "code",
   "execution_count": 50,
   "id": "ignored-exclusion",
   "metadata": {},
   "outputs": [
    {
     "data": {
      "text/plain": [
       "<generator object <genexpr> at 0x0000024DC624F4C0>"
      ]
     },
     "execution_count": 50,
     "metadata": {},
     "output_type": "execute_result"
    }
   ],
   "source": [
    "gen = ((w, len(w)) for w in lista)\n",
    "gen"
   ]
  },
  {
   "cell_type": "markdown",
   "id": "underlying-piano",
   "metadata": {},
   "source": [
    "Comprueba que funciona correctamente:"
   ]
  },
  {
   "cell_type": "code",
   "execution_count": 36,
   "id": "opponent-arabic",
   "metadata": {},
   "outputs": [
    {
     "name": "stdout",
     "output_type": "stream",
     "text": [
      "('Este', 4)\n",
      "('es', 2)\n",
      "('un', 2)\n",
      "('texto', 5)\n",
      "(\"'normal'\", 8)\n",
      "('en', 2)\n",
      "('Python', 6)\n"
     ]
    }
   ],
   "source": [
    "for i in gen:\n",
    "    print(i)"
   ]
  },
  {
   "cell_type": "markdown",
   "id": "interpreted-poetry",
   "metadata": {},
   "source": [
    "### Ejercicio 12\n",
    "Repite el ejercicio 11 enumerando sólo las palabras terminadas en 'n'"
   ]
  },
  {
   "cell_type": "code",
   "execution_count": 37,
   "id": "joined-internet",
   "metadata": {},
   "outputs": [
    {
     "name": "stdout",
     "output_type": "stream",
     "text": [
      "('un', 2)\n",
      "('en', 2)\n",
      "('Python', 6)\n"
     ]
    }
   ],
   "source": [
    "for i in ((w, len(w)) for w in lista if w.endswith('n')):\n",
    "    print(i)"
   ]
  },
  {
   "cell_type": "code",
   "execution_count": null,
   "id": "italian-blair",
   "metadata": {},
   "outputs": [],
   "source": []
  }
 ],
 "metadata": {
  "kernelspec": {
   "display_name": "Python 3 (ipykernel)",
   "language": "python",
   "name": "python3"
  },
  "language_info": {
   "codemirror_mode": {
    "name": "ipython",
    "version": 3
   },
   "file_extension": ".py",
   "mimetype": "text/x-python",
   "name": "python",
   "nbconvert_exporter": "python",
   "pygments_lexer": "ipython3",
   "version": "3.11.1"
  }
 },
 "nbformat": 4,
 "nbformat_minor": 5
}
