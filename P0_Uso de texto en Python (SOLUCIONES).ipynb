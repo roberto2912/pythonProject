{
  "cells": [
    {
      "cell_type": "markdown",
      "metadata": {
        "id": "view-in-github",
        "colab_type": "text"
      },
      "source": [
        "<a href=\"https://colab.research.google.com/github/roberto2912/pythonProject/blob/master/P0_Uso%20de%20texto%20en%20Python%20(SOLUCIONES).ipynb\" target=\"_parent\"><img src=\"https://colab.research.google.com/assets/colab-badge.svg\" alt=\"Open In Colab\"/></a>"
      ]
    },
    {
      "cell_type": "markdown",
      "id": "right-effectiveness",
      "metadata": {
        "id": "right-effectiveness"
      },
      "source": [
        "# Práctica 0\n",
        "## Uso de texto en Python"
      ]
    },
    {
      "cell_type": "code",
      "execution_count": null,
      "id": "outstanding-tournament",
      "metadata": {
        "id": "outstanding-tournament"
      },
      "outputs": [],
      "source": [
        "texto = \"Este es un texto 'normal' en Python, cambiado2\""
      ]
    },
    {
      "cell_type": "markdown",
      "id": "initial-transfer",
      "metadata": {
        "id": "initial-transfer"
      },
      "source": [
        "### Ejercicio 1\n",
        "Crea una lista con el nombre `lista` que contenga las palabras de la cadena `texto` y cuénta el nº de palabras que tiene la lista.  \n",
        "*Nota: considera que las palabras están separadas por el caracter espacio `' '`*"
      ]
    },
    {
      "cell_type": "code",
      "execution_count": null,
      "id": "major-fossil",
      "metadata": {
        "id": "major-fossil",
        "outputId": "cde7620f-b9de-4608-ad74-e1f76c29a66f"
      },
      "outputs": [
        {
          "data": {
            "text/plain": [
              "7"
            ]
          },
          "execution_count": 17,
          "metadata": {},
          "output_type": "execute_result"
        }
      ],
      "source": [
        "lista = texto.split(' ')\n",
        "len(lista)"
      ]
    },
    {
      "cell_type": "markdown",
      "id": "placed-canada",
      "metadata": {
        "id": "placed-canada"
      },
      "source": [
        "### Ejercicio 2\n",
        "¿Qué palabras de `texto` empiezan en mayúscula?"
      ]
    },
    {
      "cell_type": "code",
      "execution_count": null,
      "id": "technical-quest",
      "metadata": {
        "id": "technical-quest",
        "outputId": "3cca536c-1927-4ecd-9ffa-e79690d50557"
      },
      "outputs": [
        {
          "data": {
            "text/plain": [
              "['Este', 'Python']"
            ]
          },
          "execution_count": 12,
          "metadata": {},
          "output_type": "execute_result"
        }
      ],
      "source": [
        "[c for c in lista if c.istitle()]"
      ]
    },
    {
      "cell_type": "markdown",
      "id": "advance-conversion",
      "metadata": {
        "id": "advance-conversion"
      },
      "source": [
        "### Ejercicio 3\n",
        "Convierte en mayúsculas las palabras de `texto` que tienen una longitud mayor que tres.  "
      ]
    },
    {
      "cell_type": "code",
      "execution_count": null,
      "id": "legendary-school",
      "metadata": {
        "id": "legendary-school",
        "outputId": "28c0f5e9-2b7a-4f73-e536-d4bde3078d10"
      },
      "outputs": [
        {
          "data": {
            "text/plain": [
              "\"ESTE es un TEXTO 'NORMAL' en PYTHON\""
            ]
          },
          "execution_count": 11,
          "metadata": {},
          "output_type": "execute_result"
        }
      ],
      "source": [
        "' '.join([c.upper() if len(c)>3 else c for c in lista])"
      ]
    },
    {
      "cell_type": "markdown",
      "id": "changing-print",
      "metadata": {
        "id": "changing-print"
      },
      "source": [
        "### Ejercicio 4\n",
        "Crea una cadena que contenga *sólo* con las palabras de `texto` terminadas en `n`, separadas por **coma**, y convertidas en mayúsculas *sólo* si tienen una longitud mayor que tres"
      ]
    },
    {
      "cell_type": "code",
      "execution_count": null,
      "id": "976ed360",
      "metadata": {
        "id": "976ed360",
        "outputId": "a2607473-6e11-43f4-94a7-fb33e809056e"
      },
      "outputs": [
        {
          "data": {
            "text/plain": [
              "'ESTE'"
            ]
          },
          "execution_count": 20,
          "metadata": {},
          "output_type": "execute_result"
        }
      ],
      "source": [
        "lista[0].upper()"
      ]
    },
    {
      "cell_type": "code",
      "execution_count": null,
      "id": "3097f787",
      "metadata": {
        "id": "3097f787",
        "outputId": "d941b59e-5f3d-4d4b-ac65-cc61d8dcaeb3"
      },
      "outputs": [
        {
          "data": {
            "text/plain": [
              "['un', 'en', 'Python']"
            ]
          },
          "execution_count": 22,
          "metadata": {},
          "output_type": "execute_result"
        }
      ],
      "source": [
        "[c for c in lista if c.endswith('n')]"
      ]
    },
    {
      "cell_type": "code",
      "execution_count": null,
      "id": "recorded-mount",
      "metadata": {
        "id": "recorded-mount",
        "outputId": "a568f2ea-2eed-49b6-f6e7-da2b545611f6"
      },
      "outputs": [
        {
          "data": {
            "text/plain": [
              "'un,en,PYTHON'"
            ]
          },
          "execution_count": 21,
          "metadata": {},
          "output_type": "execute_result"
        }
      ],
      "source": [
        "#podemos combinar con funciones sobre str\n",
        "','.join([c.upper() if len(c)>3 else c for c in lista if c.endswith('n')])"
      ]
    },
    {
      "cell_type": "markdown",
      "id": "reverse-plaintiff",
      "metadata": {
        "id": "reverse-plaintiff"
      },
      "source": [
        "### Ejercicio 5\n",
        "Enumera las palabras de la cadena `texto` e indica para cada una su longitud"
      ]
    },
    {
      "cell_type": "code",
      "execution_count": null,
      "id": "9f349e0f",
      "metadata": {
        "id": "9f349e0f",
        "outputId": "686eec46-239d-42ae-9039-3394d8c6e4b1"
      },
      "outputs": [
        {
          "name": "stdout",
          "output_type": "stream",
          "text": [
            "[(0, 'Este'), (1, 'es'), (2, 'un'), (3, 'texto'), (4, \"'normal'\"), (5, 'en'), (6, 'Python')]\n"
          ]
        }
      ],
      "source": [
        "enum = enumerate(lista)\n",
        "print(list(enum))"
      ]
    },
    {
      "cell_type": "code",
      "execution_count": null,
      "id": "psychological-accountability",
      "metadata": {
        "id": "psychological-accountability",
        "outputId": "5ee786c1-afa8-492c-e417-3d725f5d644a"
      },
      "outputs": [
        {
          "name": "stdout",
          "output_type": "stream",
          "text": [
            "Palabra 0: 4 caracteres\n",
            "Palabra 1: 2 caracteres\n",
            "Palabra 2: 2 caracteres\n",
            "Palabra 3: 5 caracteres\n",
            "Palabra 4: 8 caracteres\n",
            "Palabra 5: 2 caracteres\n",
            "Palabra 6: 6 caracteres\n"
          ]
        }
      ],
      "source": [
        "#el texto es un elemento iterable\n",
        "for (i,t) in enumerate(lista):\n",
        "    print(f'Palabra {i}: {len(t)} caracteres')"
      ]
    },
    {
      "cell_type": "markdown",
      "id": "specified-roots",
      "metadata": {
        "id": "specified-roots"
      },
      "source": [
        "## Uso de texto en Pandas"
      ]
    },
    {
      "cell_type": "code",
      "execution_count": null,
      "id": "genetic-conflict",
      "metadata": {
        "id": "genetic-conflict",
        "outputId": "ed63c997-5d80-49d8-97c7-f2c15099a62b"
      },
      "outputs": [
        {
          "data": {
            "text/plain": [
              "'1.5.3'"
            ]
          },
          "execution_count": 30,
          "metadata": {},
          "output_type": "execute_result"
        }
      ],
      "source": [
        "import pandas as pd\n",
        "import numpy as np\n",
        "pd.__version__"
      ]
    },
    {
      "cell_type": "markdown",
      "id": "irish-wallace",
      "metadata": {
        "id": "irish-wallace"
      },
      "source": [
        "### Ejercicio 6\n",
        "Convierte la lista de *strings* anterior a un objeto `Series` de Pandas de tipo `dtype=string` con el nombre `serie`."
      ]
    },
    {
      "cell_type": "code",
      "execution_count": null,
      "id": "similar-quebec",
      "metadata": {
        "id": "similar-quebec",
        "outputId": "54792c48-d465-4a3e-8b44-6b8d8622ebfe"
      },
      "outputs": [
        {
          "data": {
            "text/plain": [
              "0        Este\n",
              "1          es\n",
              "2          un\n",
              "3       texto\n",
              "4    'normal'\n",
              "5          en\n",
              "6      Python\n",
              "dtype: string"
            ]
          },
          "execution_count": 32,
          "metadata": {},
          "output_type": "execute_result"
        }
      ],
      "source": [
        "serie = pd.Series(lista, dtype=\"string\")\n",
        "serie"
      ]
    },
    {
      "cell_type": "markdown",
      "id": "sharing-diagram",
      "metadata": {
        "id": "sharing-diagram"
      },
      "source": [
        "### Ejercicio 7\n",
        "Convierte los elementos de `serie` a mayúsculas."
      ]
    },
    {
      "cell_type": "code",
      "execution_count": null,
      "id": "measured-invasion",
      "metadata": {
        "id": "measured-invasion",
        "outputId": "bee4dafa-e319-4db9-cd89-7ecbb3182099"
      },
      "outputs": [
        {
          "data": {
            "text/plain": [
              "0        ESTE\n",
              "1          ES\n",
              "2          UN\n",
              "3       TEXTO\n",
              "4    'NORMAL'\n",
              "5          EN\n",
              "6      PYTHON\n",
              "dtype: string"
            ]
          },
          "execution_count": 33,
          "metadata": {},
          "output_type": "execute_result"
        }
      ],
      "source": [
        "serie.str.upper()"
      ]
    },
    {
      "cell_type": "markdown",
      "id": "informal-shooting",
      "metadata": {
        "id": "informal-shooting"
      },
      "source": [
        "### Ejercicio 8\n",
        "Cuenta el número de apariciones del carácter 'e' (o 'E') en cada elemento.  \n",
        "*Nota*: Convierte todo el texto a mayúscula y utiliza el  método `count()` sobre el atributo `str` del objeto Series"
      ]
    },
    {
      "cell_type": "code",
      "execution_count": null,
      "id": "annoying-supervisor",
      "metadata": {
        "id": "annoying-supervisor",
        "outputId": "b36bfe48-e604-4c85-dc9c-56b8565284a0"
      },
      "outputs": [
        {
          "data": {
            "text/plain": [
              "0    2\n",
              "1    1\n",
              "2    0\n",
              "3    1\n",
              "4    0\n",
              "5    1\n",
              "6    0\n",
              "dtype: Int64"
            ]
          },
          "execution_count": 34,
          "metadata": {},
          "output_type": "execute_result"
        }
      ],
      "source": [
        "serie.str.upper().str.count(\"E\")"
      ]
    },
    {
      "cell_type": "markdown",
      "id": "affecting-christianity",
      "metadata": {
        "id": "affecting-christianity"
      },
      "source": [
        "### Ejercicio 9\n",
        "Crea un `DataFrame` de Pandas con los elementos originales de tu serie y dos columnas con:  \n",
        "- Elementos que contienen la letra 'e' (case insensitive)\n",
        "- Elementos que comienzan por la letra 'E' (sólo mayúsculas)"
      ]
    },
    {
      "cell_type": "code",
      "execution_count": null,
      "id": "outside-barrel",
      "metadata": {
        "id": "outside-barrel",
        "outputId": "db60af69-db9f-4c85-9922-b87d1b01a6c5"
      },
      "outputs": [
        {
          "data": {
            "text/html": [
              "<div>\n",
              "<style scoped>\n",
              "    .dataframe tbody tr th:only-of-type {\n",
              "        vertical-align: middle;\n",
              "    }\n",
              "\n",
              "    .dataframe tbody tr th {\n",
              "        vertical-align: top;\n",
              "    }\n",
              "\n",
              "    .dataframe thead th {\n",
              "        text-align: right;\n",
              "    }\n",
              "</style>\n",
              "<table border=\"1\" class=\"dataframe\">\n",
              "  <thead>\n",
              "    <tr style=\"text-align: right;\">\n",
              "      <th></th>\n",
              "      <th>0</th>\n",
              "      <th>1</th>\n",
              "      <th>2</th>\n",
              "    </tr>\n",
              "  </thead>\n",
              "  <tbody>\n",
              "    <tr>\n",
              "      <th>0</th>\n",
              "      <td>Ess</td>\n",
              "      <td>True</td>\n",
              "      <td>True</td>\n",
              "    </tr>\n",
              "    <tr>\n",
              "      <th>1</th>\n",
              "      <td>es</td>\n",
              "      <td>True</td>\n",
              "      <td>False</td>\n",
              "    </tr>\n",
              "    <tr>\n",
              "      <th>2</th>\n",
              "      <td>un</td>\n",
              "      <td>False</td>\n",
              "      <td>False</td>\n",
              "    </tr>\n",
              "    <tr>\n",
              "      <th>3</th>\n",
              "      <td>texto</td>\n",
              "      <td>True</td>\n",
              "      <td>False</td>\n",
              "    </tr>\n",
              "    <tr>\n",
              "      <th>4</th>\n",
              "      <td>'normal'</td>\n",
              "      <td>False</td>\n",
              "      <td>False</td>\n",
              "    </tr>\n",
              "    <tr>\n",
              "      <th>5</th>\n",
              "      <td>en</td>\n",
              "      <td>True</td>\n",
              "      <td>False</td>\n",
              "    </tr>\n",
              "    <tr>\n",
              "      <th>6</th>\n",
              "      <td>Python</td>\n",
              "      <td>False</td>\n",
              "      <td>False</td>\n",
              "    </tr>\n",
              "  </tbody>\n",
              "</table>\n",
              "</div>"
            ],
            "text/plain": [
              "          0      1      2\n",
              "0       Ess   True   True\n",
              "1        es   True  False\n",
              "2        un  False  False\n",
              "3     texto   True  False\n",
              "4  'normal'  False  False\n",
              "5        en   True  False\n",
              "6    Python  False  False"
            ]
          },
          "execution_count": 47,
          "metadata": {},
          "output_type": "execute_result"
        }
      ],
      "source": [
        "pd.concat([serie, serie.str.contains(\"e\", case=False), serie.str.match(\"E\")], axis=1)"
      ]
    },
    {
      "cell_type": "markdown",
      "id": "electronic-zealand",
      "metadata": {
        "id": "electronic-zealand"
      },
      "source": [
        "### Ejercicio 10\n",
        "¿cuántos elementos contienen al menos un carácter 'n'?  \n",
        "*Nota*: recuerda que las Series de tipo booleano se pueden sumar con `sum()`"
      ]
    },
    {
      "cell_type": "code",
      "execution_count": null,
      "id": "9dce891e",
      "metadata": {
        "id": "9dce891e",
        "outputId": "7ed5f5e4-d7ad-45f6-f27d-d54dc1961cce"
      },
      "outputs": [
        {
          "data": {
            "text/plain": [
              "0    False\n",
              "1    False\n",
              "2     True\n",
              "3    False\n",
              "4     True\n",
              "5     True\n",
              "6     True\n",
              "dtype: boolean"
            ]
          },
          "execution_count": 49,
          "metadata": {},
          "output_type": "execute_result"
        }
      ],
      "source": [
        "serie.str.contains(\"n\")"
      ]
    },
    {
      "cell_type": "code",
      "execution_count": null,
      "id": "sensitive-fifteen",
      "metadata": {
        "id": "sensitive-fifteen",
        "outputId": "547911ea-c0a7-46c2-f00a-dfc634e8ed41"
      },
      "outputs": [
        {
          "data": {
            "text/plain": [
              "4"
            ]
          },
          "execution_count": 48,
          "metadata": {},
          "output_type": "execute_result"
        }
      ],
      "source": [
        "serie.str.contains(\"n\").sum()"
      ]
    },
    {
      "cell_type": "markdown",
      "id": "ethical-consciousness",
      "metadata": {
        "id": "ethical-consciousness"
      },
      "source": [
        "## Generator comprenhension y List comprenhension\n",
        "### Ejercicio 11\n",
        "Crea un generador llamado `gen` que recorra la lista de texto anterior y devuelva cada vez una tupla con la siguiente palabra y su longitud."
      ]
    },
    {
      "cell_type": "code",
      "execution_count": null,
      "id": "ignored-exclusion",
      "metadata": {
        "id": "ignored-exclusion",
        "outputId": "4e5553e1-17e3-4a57-de4b-0d162279e47d"
      },
      "outputs": [
        {
          "data": {
            "text/plain": [
              "<generator object <genexpr> at 0x0000024DC624F4C0>"
            ]
          },
          "execution_count": 50,
          "metadata": {},
          "output_type": "execute_result"
        }
      ],
      "source": [
        "gen = ((w, len(w)) for w in lista)\n",
        "gen"
      ]
    },
    {
      "cell_type": "markdown",
      "id": "underlying-piano",
      "metadata": {
        "id": "underlying-piano"
      },
      "source": [
        "Comprueba que funciona correctamente:"
      ]
    },
    {
      "cell_type": "code",
      "execution_count": null,
      "id": "opponent-arabic",
      "metadata": {
        "id": "opponent-arabic",
        "outputId": "5b9d09e1-83ac-481f-a664-3b160f4f057e"
      },
      "outputs": [
        {
          "name": "stdout",
          "output_type": "stream",
          "text": [
            "('Este', 4)\n",
            "('es', 2)\n",
            "('un', 2)\n",
            "('texto', 5)\n",
            "(\"'normal'\", 8)\n",
            "('en', 2)\n",
            "('Python', 6)\n"
          ]
        }
      ],
      "source": [
        "for i in gen:\n",
        "    print(i)"
      ]
    },
    {
      "cell_type": "markdown",
      "id": "interpreted-poetry",
      "metadata": {
        "id": "interpreted-poetry"
      },
      "source": [
        "### Ejercicio 12\n",
        "Repite el ejercicio 11 enumerando sólo las palabras terminadas en 'n'"
      ]
    },
    {
      "cell_type": "code",
      "execution_count": null,
      "id": "joined-internet",
      "metadata": {
        "id": "joined-internet",
        "outputId": "e8d0a1fa-266c-4789-cbd8-ff2661f64519"
      },
      "outputs": [
        {
          "name": "stdout",
          "output_type": "stream",
          "text": [
            "('un', 2)\n",
            "('en', 2)\n",
            "('Python', 6)\n"
          ]
        }
      ],
      "source": [
        "for i in ((w, len(w)) for w in lista if w.endswith('n')):\n",
        "    print(i)"
      ]
    },
    {
      "cell_type": "code",
      "execution_count": null,
      "id": "italian-blair",
      "metadata": {
        "id": "italian-blair"
      },
      "outputs": [],
      "source": []
    }
  ],
  "metadata": {
    "kernelspec": {
      "display_name": "Python 3 (ipykernel)",
      "language": "python",
      "name": "python3"
    },
    "language_info": {
      "codemirror_mode": {
        "name": "ipython",
        "version": 3
      },
      "file_extension": ".py",
      "mimetype": "text/x-python",
      "name": "python",
      "nbconvert_exporter": "python",
      "pygments_lexer": "ipython3",
      "version": "3.11.1"
    },
    "colab": {
      "provenance": [],
      "include_colab_link": true
    }
  },
  "nbformat": 4,
  "nbformat_minor": 5
}